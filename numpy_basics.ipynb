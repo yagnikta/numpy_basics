{
  "nbformat": 4,
  "nbformat_minor": 0,
  "metadata": {
    "colab": {
      "provenance": [],
      "authorship_tag": "ABX9TyOCXBk1wq6WNckxsn6lhtWJ",
      "include_colab_link": true
    },
    "kernelspec": {
      "name": "python3",
      "display_name": "Python 3"
    },
    "language_info": {
      "name": "python"
    }
  },
  "cells": [
    {
      "cell_type": "markdown",
      "metadata": {
        "id": "view-in-github",
        "colab_type": "text"
      },
      "source": [
        "<a href=\"https://colab.research.google.com/github/yagnikta/numpy_basics/blob/main/numpy_basics.ipynb\" target=\"_parent\"><img src=\"https://colab.research.google.com/assets/colab-badge.svg\" alt=\"Open In Colab\"/></a>"
      ]
    },
    {
      "cell_type": "code",
      "source": [
        "import numpy as np"
      ],
      "metadata": {
        "id": "dyzX-_star9G"
      },
      "execution_count": 4,
      "outputs": []
    },
    {
      "cell_type": "code",
      "source": [
        "ar = np.array([1,2,3])"
      ],
      "metadata": {
        "id": "RV_Tor2Ob1ui"
      },
      "execution_count": null,
      "outputs": []
    },
    {
      "cell_type": "code",
      "source": [
        "print(ar.ndim)"
      ],
      "metadata": {
        "colab": {
          "base_uri": "https://localhost:8080/"
        },
        "id": "eXyf6HI-cQO8",
        "outputId": "549faf5a-b66b-4a15-8202-47b0fbcf5fc4"
      },
      "execution_count": null,
      "outputs": [
        {
          "output_type": "stream",
          "name": "stdout",
          "text": [
            "1\n"
          ]
        }
      ]
    },
    {
      "cell_type": "code",
      "source": [
        "ar = np.array(332)"
      ],
      "metadata": {
        "id": "G8C6-ZLRcTN1"
      },
      "execution_count": null,
      "outputs": []
    },
    {
      "cell_type": "code",
      "source": [
        "print(ar.ndim)"
      ],
      "metadata": {
        "colab": {
          "base_uri": "https://localhost:8080/"
        },
        "id": "dBinzlcWcWKq",
        "outputId": "03056f43-c851-4da5-c04b-455969384f0c"
      },
      "execution_count": null,
      "outputs": [
        {
          "output_type": "stream",
          "name": "stdout",
          "text": [
            "0\n"
          ]
        }
      ]
    },
    {
      "cell_type": "code",
      "source": [
        "a = np.array([])\n",
        "a.ndim"
      ],
      "metadata": {
        "colab": {
          "base_uri": "https://localhost:8080/"
        },
        "id": "_BCypIdccX0V",
        "outputId": "d843fbe9-5d86-4b0b-8b2e-37059634cec5"
      },
      "execution_count": null,
      "outputs": [
        {
          "output_type": "execute_result",
          "data": {
            "text/plain": [
              "1"
            ]
          },
          "metadata": {},
          "execution_count": 30
        }
      ]
    },
    {
      "cell_type": "code",
      "source": [
        "range = np.arange(1, 10, 2)\n",
        "print(range)"
      ],
      "metadata": {
        "colab": {
          "base_uri": "https://localhost:8080/"
        },
        "id": "98c3Zg3RdBgy",
        "outputId": "57c3e91c-85bc-47ee-dd02-b61333108ad7"
      },
      "execution_count": null,
      "outputs": [
        {
          "output_type": "stream",
          "name": "stdout",
          "text": [
            "[1 3 5 7 9]\n"
          ]
        }
      ]
    },
    {
      "cell_type": "code",
      "source": [
        "ar = np.linspace(0,1,7)\n",
        "ar"
      ],
      "metadata": {
        "colab": {
          "base_uri": "https://localhost:8080/"
        },
        "id": "2nTT1ECxdMgB",
        "outputId": "df15956f-07a8-4988-979c-113afbb05fb8"
      },
      "execution_count": null,
      "outputs": [
        {
          "output_type": "execute_result",
          "data": {
            "text/plain": [
              "array([0.        , 0.16666667, 0.33333333, 0.5       , 0.66666667,\n",
              "       0.83333333, 1.        ])"
            ]
          },
          "metadata": {},
          "execution_count": 35
        }
      ]
    },
    {
      "cell_type": "code",
      "source": [
        "ar = np.logspace(1,5,6)\n",
        "ar"
      ],
      "metadata": {
        "colab": {
          "base_uri": "https://localhost:8080/"
        },
        "id": "h4DXuTr_dtQn",
        "outputId": "2d480aba-cee5-463b-99fb-abaadc9df3fe"
      },
      "execution_count": null,
      "outputs": [
        {
          "output_type": "execute_result",
          "data": {
            "text/plain": [
              "array([1.00000000e+01, 6.30957344e+01, 3.98107171e+02, 2.51188643e+03,\n",
              "       1.58489319e+04, 1.00000000e+05])"
            ]
          },
          "metadata": {},
          "execution_count": 39
        }
      ]
    },
    {
      "cell_type": "code",
      "source": [
        "ar = np.zeros(5)\n",
        "ar"
      ],
      "metadata": {
        "colab": {
          "base_uri": "https://localhost:8080/"
        },
        "id": "It-zQ5f5d9en",
        "outputId": "0c6f391d-86f9-4a1b-d3cb-21cd44408f86"
      },
      "execution_count": null,
      "outputs": [
        {
          "output_type": "execute_result",
          "data": {
            "text/plain": [
              "array([0., 0., 0., 0., 0.])"
            ]
          },
          "metadata": {},
          "execution_count": 40
        }
      ]
    },
    {
      "cell_type": "code",
      "source": [
        "ar = np.zeros(4)\n",
        "ar2 = np.zeros((4))\n",
        "print(ar, ar2)"
      ],
      "metadata": {
        "colab": {
          "base_uri": "https://localhost:8080/"
        },
        "id": "z4p_QPIviMgP",
        "outputId": "355a8008-2a20-4b16-8c9c-3391cc693021"
      },
      "execution_count": null,
      "outputs": [
        {
          "output_type": "stream",
          "name": "stdout",
          "text": [
            "[0. 0. 0. 0.] [0. 0. 0. 0.]\n"
          ]
        }
      ]
    },
    {
      "cell_type": "code",
      "source": [
        "ar = np.ones((2,2), dtype=int)\n",
        "ar"
      ],
      "metadata": {
        "colab": {
          "base_uri": "https://localhost:8080/"
        },
        "id": "1oRVL6vGivXX",
        "outputId": "c86cb677-48a1-4e20-80c6-c3cc17becf7f"
      },
      "execution_count": null,
      "outputs": [
        {
          "output_type": "execute_result",
          "data": {
            "text/plain": [
              "array([[1, 1],\n",
              "       [1, 1]])"
            ]
          },
          "metadata": {},
          "execution_count": 55
        }
      ]
    },
    {
      "cell_type": "code",
      "source": [
        "ar = np.full((2,8), 1)\n",
        "ar"
      ],
      "metadata": {
        "colab": {
          "base_uri": "https://localhost:8080/"
        },
        "id": "4JVJVc9HjN-D",
        "outputId": "f4d448f3-62a2-47f4-8676-d0251076ade2"
      },
      "execution_count": null,
      "outputs": [
        {
          "output_type": "execute_result",
          "data": {
            "text/plain": [
              "array([[1, 1, 1, 1, 1, 1, 1, 1],\n",
              "       [1, 1, 1, 1, 1, 1, 1, 1]])"
            ]
          },
          "metadata": {},
          "execution_count": 62
        }
      ]
    },
    {
      "cell_type": "code",
      "source": [
        "ar = np.empty([9,2])\n",
        "ar"
      ],
      "metadata": {
        "colab": {
          "base_uri": "https://localhost:8080/"
        },
        "id": "i2eWwyVLjjIL",
        "outputId": "b83b11ed-b8ac-4aa9-faea-0a6c704b7f76"
      },
      "execution_count": null,
      "outputs": [
        {
          "output_type": "execute_result",
          "data": {
            "text/plain": [
              "array([[ 4.43019308e-315,  0.00000000e+000],\n",
              "       [ 9.23406358e-305, -2.54779384e+078],\n",
              "       [ 5.58770407e-111, -3.06835199e-231],\n",
              "       [ 4.72049105e-242,  1.33778311e-197],\n",
              "       [-2.04038657e+097,  1.52109540e-308],\n",
              "       [ 1.18206253e-168,  7.73577096e-239],\n",
              "       [-3.36353955e+231,  3.64674657e-304],\n",
              "       [ 3.97370997e+255,  1.10413978e-316],\n",
              "       [ 0.00000000e+000,  0.00000000e+000]])"
            ]
          },
          "metadata": {},
          "execution_count": 65
        }
      ]
    },
    {
      "cell_type": "code",
      "source": [
        "ar = np.random.rand(2,2)\n",
        "ar"
      ],
      "metadata": {
        "colab": {
          "base_uri": "https://localhost:8080/"
        },
        "id": "7K2Q0kkCjxsK",
        "outputId": "64ad430b-25c7-4af4-a900-3237588429d4"
      },
      "execution_count": null,
      "outputs": [
        {
          "output_type": "execute_result",
          "data": {
            "text/plain": [
              "array([[0.86625197, 0.62167058],\n",
              "       [0.64258978, 0.33235432]])"
            ]
          },
          "metadata": {},
          "execution_count": 68
        }
      ]
    },
    {
      "cell_type": "code",
      "source": [
        "ar = np.random.randn(3,4) #random floats from normal distribution, mean = 0, deviation = 1"
      ],
      "metadata": {
        "colab": {
          "base_uri": "https://localhost:8080/"
        },
        "id": "drkRDKHCkL3y",
        "outputId": "6be8cd4a-1d13-4325-cd44-ada78d84b212"
      },
      "execution_count": null,
      "outputs": [
        {
          "output_type": "stream",
          "name": "stdout",
          "text": [
            "4.09326799577477\n"
          ]
        }
      ]
    },
    {
      "cell_type": "code",
      "source": [
        "ar = np.random.randint(10, 100, (10,5)) # start, stop, number of values\n",
        "ar"
      ],
      "metadata": {
        "colab": {
          "base_uri": "https://localhost:8080/"
        },
        "id": "eMnlx37HkVbq",
        "outputId": "fdd8ce03-35a2-4925-ab3f-2dacef928e0b"
      },
      "execution_count": null,
      "outputs": [
        {
          "output_type": "execute_result",
          "data": {
            "text/plain": [
              "array([[58, 45, 59, 69, 87],\n",
              "       [22, 15, 94, 51, 67],\n",
              "       [84, 80, 20, 74, 59],\n",
              "       [35, 66, 72, 44, 17],\n",
              "       [47, 55, 38, 69, 59],\n",
              "       [83, 48, 38, 76, 88],\n",
              "       [13, 98, 22, 18, 81],\n",
              "       [34, 82, 75, 12, 98],\n",
              "       [36, 79, 67, 41, 40],\n",
              "       [95, 58, 80, 36, 47]])"
            ]
          },
          "metadata": {},
          "execution_count": 80
        }
      ]
    },
    {
      "cell_type": "code",
      "source": [
        "ar = np.array([1.1, 2.3, 're'])\n",
        "print(type(ar), ar.dtype) # type shows class, and dtype shows datatype"
      ],
      "metadata": {
        "colab": {
          "base_uri": "https://localhost:8080/"
        },
        "id": "F18ng_9vk7Co",
        "outputId": "9f4ee0c8-1873-46c9-ebe4-40ceea7826be"
      },
      "execution_count": null,
      "outputs": [
        {
          "output_type": "stream",
          "name": "stdout",
          "text": [
            "<class 'numpy.ndarray'> <U32\n"
          ]
        }
      ]
    },
    {
      "cell_type": "code",
      "source": [
        "ar = np.array([1,2,3,4], dtype=np.uint32)\n",
        "ar"
      ],
      "metadata": {
        "colab": {
          "base_uri": "https://localhost:8080/"
        },
        "id": "TuNU-AyRmBSI",
        "outputId": "20a7ee55-e813-41ed-a171-f26a1f966ea3"
      },
      "execution_count": null,
      "outputs": [
        {
          "output_type": "execute_result",
          "data": {
            "text/plain": [
              "array([1, 2, 3, 4], dtype=uint32)"
            ]
          },
          "metadata": {},
          "execution_count": 93
        }
      ]
    },
    {
      "cell_type": "code",
      "source": [
        "ar = np.array([1,2,3,4]).astype(np.int32)\n",
        "ar"
      ],
      "metadata": {
        "colab": {
          "base_uri": "https://localhost:8080/"
        },
        "id": "OluBunCimuYV",
        "outputId": "1edcdd48-8673-4663-d775-24a91c1c9bd0"
      },
      "execution_count": null,
      "outputs": [
        {
          "output_type": "execute_result",
          "data": {
            "text/plain": [
              "array([1, 2, 3, 4], dtype=int32)"
            ]
          },
          "metadata": {},
          "execution_count": 95
        }
      ]
    },
    {
      "cell_type": "code",
      "source": [
        "ar = np.array([\n",
        "      [\n",
        "        [21],[12]\n",
        "      ],\n",
        "      [\n",
        "        [22],[22]\n",
        "      ]\n",
        "    ])\n",
        "print(\n",
        "' dimensions of array: ',ar.shape, '\\n',\n",
        "'number of elements present in array: ',ar.size, '\\n',\n",
        "'Item size of array: ', ar.itemsize\n",
        ")"
      ],
      "metadata": {
        "colab": {
          "base_uri": "https://localhost:8080/"
        },
        "id": "phXubrtim4jg",
        "outputId": "7197de86-d3ff-4806-dd75-ecb28747d423"
      },
      "execution_count": null,
      "outputs": [
        {
          "output_type": "stream",
          "name": "stdout",
          "text": [
            " dimensions of array:  (2, 2, 1) \n",
            " number of elements present in array:  4 \n",
            " Item size of array:  8\n"
          ]
        }
      ]
    },
    {
      "cell_type": "code",
      "source": [
        "# Reshape\n",
        "\n",
        "ar = np.array([1,2,3,4,5,6,7,8])\n",
        "reshaped = ar.reshape(2,2,2)\n",
        "print(reshaped)"
      ],
      "metadata": {
        "colab": {
          "base_uri": "https://localhost:8080/"
        },
        "id": "j-qjBRWUph-d",
        "outputId": "49133862-9910-4fae-cea8-fd4b44049ab4"
      },
      "execution_count": null,
      "outputs": [
        {
          "output_type": "stream",
          "name": "stdout",
          "text": [
            "[[[1 2]\n",
            "  [3 4]]\n",
            "\n",
            " [[5 6]\n",
            "  [7 8]]]\n"
          ]
        }
      ]
    },
    {
      "cell_type": "code",
      "source": [
        "# Flatten\n",
        "\n",
        "ar = np.array([\n",
        "    [1,2,3],\n",
        "    [4,5,6]\n",
        "])\n",
        "\n",
        "flat = ar.flatten()\n",
        "print(flat)"
      ],
      "metadata": {
        "colab": {
          "base_uri": "https://localhost:8080/"
        },
        "id": "g-L3qKglp0Zy",
        "outputId": "f1d32cdc-3c98-4fab-cb40-dd30f2327887"
      },
      "execution_count": null,
      "outputs": [
        {
          "output_type": "stream",
          "name": "stdout",
          "text": [
            "[1 2 3 4 5 6]\n"
          ]
        }
      ]
    },
    {
      "cell_type": "code",
      "source": [
        "# Ravel\n",
        "\n",
        "ar = np.array([\n",
        "    [1,2,3],\n",
        "    [4,5,6]\n",
        "\n",
        "])\n",
        "\n",
        "raveled = ar.ravel()\n",
        "print(raveled)"
      ],
      "metadata": {
        "colab": {
          "base_uri": "https://localhost:8080/"
        },
        "id": "sCd6CaN5p8bo",
        "outputId": "cf7eb7b3-4f9b-4471-b7e9-5b91b533aa44"
      },
      "execution_count": null,
      "outputs": [
        {
          "output_type": "stream",
          "name": "stdout",
          "text": [
            "[1 2 3 4 5 6]\n"
          ]
        }
      ]
    },
    {
      "cell_type": "code",
      "source": [
        "a = np.array([1,2,3,4])\n",
        "b = np.array([3,4,5,6])\n",
        "print(a + b)\n",
        "print(a - b)\n",
        "print(a * b)\n",
        "print(b / a)\n",
        "print(b // a)\n",
        "print(b % a)\n",
        "print(a ** b)"
      ],
      "metadata": {
        "colab": {
          "base_uri": "https://localhost:8080/"
        },
        "id": "JlJnmLFqqXH_",
        "outputId": "d01e8f0d-3efe-4207-fdfe-d3fe7f623803"
      },
      "execution_count": null,
      "outputs": [
        {
          "output_type": "stream",
          "name": "stdout",
          "text": [
            "[ 4  6  8 10]\n",
            "[-2 -2 -2 -2]\n",
            "[ 3  8 15 24]\n",
            "[3.         2.         1.66666667 1.5       ]\n",
            "[3 2 1 1]\n",
            "[0 0 2 2]\n",
            "[   1   16  243 4096]\n"
          ]
        }
      ]
    },
    {
      "cell_type": "code",
      "source": [
        "# Square root\n",
        "arr = np.array([1,4,9,16,25]).astype(np.int64)\n",
        "print(np.sqrt(arr))"
      ],
      "metadata": {
        "colab": {
          "base_uri": "https://localhost:8080/"
        },
        "id": "981u-DY9q00H",
        "outputId": "6e531519-0441-4f8e-9b6f-13b2e2bfb040"
      },
      "execution_count": null,
      "outputs": [
        {
          "output_type": "stream",
          "name": "stdout",
          "text": [
            "[1. 2. 3. 4. 5.]\n"
          ]
        }
      ]
    },
    {
      "cell_type": "code",
      "source": [
        "# Exponential\n",
        "\n",
        "print(np.exp([0,1,2]))"
      ],
      "metadata": {
        "colab": {
          "base_uri": "https://localhost:8080/"
        },
        "id": "TePdkGgcsRey",
        "outputId": "97fa73d8-5435-47dd-e895-43a2ccaccbfb"
      },
      "execution_count": null,
      "outputs": [
        {
          "output_type": "stream",
          "name": "stdout",
          "text": [
            "[1.         2.71828183 7.3890561 ]\n"
          ]
        }
      ]
    },
    {
      "cell_type": "code",
      "source": [
        "# Sine values:\n",
        "\n",
        "angles = np.array([0, np.pi/6, np.pi/3, np.pi/2, np.pi])\n",
        "print(np.sin(angles))"
      ],
      "metadata": {
        "colab": {
          "base_uri": "https://localhost:8080/"
        },
        "id": "77wLiYxHsgV9",
        "outputId": "118a9e22-3cb8-4a48-f56d-f1ca2843e973"
      },
      "execution_count": null,
      "outputs": [
        {
          "output_type": "stream",
          "name": "stdout",
          "text": [
            "[0.00000000e+00 5.00000000e-01 8.66025404e-01 1.00000000e+00\n",
            " 1.22464680e-16]\n"
          ]
        }
      ]
    },
    {
      "cell_type": "markdown",
      "source": [
        "**Indexing and Slicing**"
      ],
      "metadata": {
        "id": "f9SRzStLs2lW"
      }
    },
    {
      "cell_type": "code",
      "source": [
        "a = np.array([1,2,3,4,5])\n",
        "\n",
        "print(a[0:5:3])"
      ],
      "metadata": {
        "colab": {
          "base_uri": "https://localhost:8080/"
        },
        "id": "p7DWFzrItYdG",
        "outputId": "0e88a171-45ee-41ba-93a7-b19a333115b0"
      },
      "execution_count": null,
      "outputs": [
        {
          "output_type": "stream",
          "name": "stdout",
          "text": [
            "[1 4]\n"
          ]
        }
      ]
    },
    {
      "cell_type": "code",
      "source": [
        "ar = a[::-1]\n",
        "ar"
      ],
      "metadata": {
        "colab": {
          "base_uri": "https://localhost:8080/"
        },
        "id": "SqR23sgYt6wO",
        "outputId": "faaa4eac-59f1-490a-a364-b1d8646f873f"
      },
      "execution_count": null,
      "outputs": [
        {
          "output_type": "execute_result",
          "data": {
            "text/plain": [
              "array([5, 4, 3, 2, 1])"
            ]
          },
          "metadata": {},
          "execution_count": 151
        }
      ]
    },
    {
      "cell_type": "code",
      "source": [
        "a[1::2]"
      ],
      "metadata": {
        "colab": {
          "base_uri": "https://localhost:8080/"
        },
        "id": "-2HZ18VcuOiw",
        "outputId": "dc3199a5-6512-43d1-b8a9-297ad8256fd0"
      },
      "execution_count": null,
      "outputs": [
        {
          "output_type": "execute_result",
          "data": {
            "text/plain": [
              "array([2, 4])"
            ]
          },
          "metadata": {},
          "execution_count": 152
        }
      ]
    },
    {
      "cell_type": "markdown",
      "source": [
        "**Multi Dimensional Slicing**"
      ],
      "metadata": {
        "id": "cyiEbEFAup5z"
      }
    },
    {
      "cell_type": "code",
      "source": [
        "matrix = np.array([\n",
        "    [1,2,3],\n",
        "    [4,5,6],\n",
        "    [7,8,9]\n",
        "])\n",
        "print(matrix[1:, 1:])"
      ],
      "metadata": {
        "colab": {
          "base_uri": "https://localhost:8080/"
        },
        "id": "A9077P6Ku_ko",
        "outputId": "a2ea9678-3f80-420e-8b4c-a9c56bcffba7"
      },
      "execution_count": null,
      "outputs": [
        {
          "output_type": "stream",
          "name": "stdout",
          "text": [
            "[[5 6]\n",
            " [8 9]]\n"
          ]
        }
      ]
    },
    {
      "cell_type": "markdown",
      "source": [
        "* np.take -> built in function to perform indexing and slicing"
      ],
      "metadata": {
        "id": "lM5CUpWHwRcH"
      }
    },
    {
      "cell_type": "code",
      "source": [
        "arr = np.array([1,2,3,4,5,6,7,4,4,3])\n",
        "ind = [1,9]\n",
        "\n",
        "print(np.take(arr, ind))"
      ],
      "metadata": {
        "colab": {
          "base_uri": "https://localhost:8080/"
        },
        "id": "VWmGXJHLwbNo",
        "outputId": "66d190b3-f8f1-4e36-820b-9b345596c4a6"
      },
      "execution_count": null,
      "outputs": [
        {
          "output_type": "stream",
          "name": "stdout",
          "text": [
            "[2 3]\n"
          ]
        }
      ]
    },
    {
      "cell_type": "markdown",
      "source": [
        "**To Iterate through numpy array we use np.nditer**"
      ],
      "metadata": {
        "id": "n50c8suGwpIg"
      }
    },
    {
      "cell_type": "code",
      "source": [
        "for x in np.nditer(arr):\n",
        "  print(x, end = \" \")"
      ],
      "metadata": {
        "colab": {
          "base_uri": "https://localhost:8080/"
        },
        "id": "EGSytDB2xgNt",
        "outputId": "63b95fc2-0500-478c-9b20-86092ad1ff42"
      },
      "execution_count": null,
      "outputs": [
        {
          "output_type": "stream",
          "name": "stdout",
          "text": [
            "1 2 3 4 5 6 7 4 4 3 "
          ]
        }
      ]
    },
    {
      "cell_type": "markdown",
      "source": [
        "**To Iterate through numpy array having access to indexes we use ndenumerate**"
      ],
      "metadata": {
        "id": "jnwyIs4cx0_Q"
      }
    },
    {
      "cell_type": "code",
      "source": [
        "a = np.array([\n",
        "    [1,2],\n",
        "    [3,4]\n",
        "])\n",
        "\n",
        "for ind, x in np.ndenumerate(a):\n",
        "  print(ind, x)"
      ],
      "metadata": {
        "colab": {
          "base_uri": "https://localhost:8080/"
        },
        "id": "ejEWwn3Lx73x",
        "outputId": "655c27f4-d1aa-46fb-fe26-b6c1b9fd3f7f"
      },
      "execution_count": null,
      "outputs": [
        {
          "output_type": "stream",
          "name": "stdout",
          "text": [
            "(0, 0) 1\n",
            "(0, 1) 2\n",
            "(1, 0) 3\n",
            "(1, 1) 4\n"
          ]
        }
      ]
    },
    {
      "cell_type": "code",
      "source": [
        "# Views vs Copies\n",
        "\n",
        "arr = np.array([1,2,3,4,5])\n",
        "\n",
        "view = arr[1:3] # passed by reference\n",
        "\n",
        "copy = arr[1:3].copy() # passed by value\n",
        "\n",
        "arr[1] = 0\n",
        "\n",
        "print(view, copy)"
      ],
      "metadata": {
        "colab": {
          "base_uri": "https://localhost:8080/"
        },
        "id": "veLGE5O3yqRe",
        "outputId": "53d1b913-467c-4711-9542-419cba72ead2"
      },
      "execution_count": null,
      "outputs": [
        {
          "output_type": "stream",
          "name": "stdout",
          "text": [
            "[0 3] [2 3]\n"
          ]
        }
      ]
    },
    {
      "cell_type": "markdown",
      "source": [
        "**Transpose of a Matrix**"
      ],
      "metadata": {
        "id": "t9eD61xyzWd8"
      }
    },
    {
      "cell_type": "code",
      "source": [
        "arr = np.array([[1,2], [3,4]])\n",
        "arr"
      ],
      "metadata": {
        "colab": {
          "base_uri": "https://localhost:8080/"
        },
        "id": "-6j1jChszZvd",
        "outputId": "5bb1b806-854d-45d9-97d1-cf4e468bc174"
      },
      "execution_count": null,
      "outputs": [
        {
          "output_type": "execute_result",
          "data": {
            "text/plain": [
              "array([[1, 2],\n",
              "       [3, 4]])"
            ]
          },
          "metadata": {},
          "execution_count": 183
        }
      ]
    },
    {
      "cell_type": "code",
      "source": [
        "arr.transpose()"
      ],
      "metadata": {
        "colab": {
          "base_uri": "https://localhost:8080/"
        },
        "id": "wgII-9J2zgAS",
        "outputId": "6245e494-0b68-4058-eb53-f263eb3e8cd3"
      },
      "execution_count": null,
      "outputs": [
        {
          "output_type": "stream",
          "name": "stdout",
          "text": [
            "[[1 2]\n",
            " [3 4]]\n"
          ]
        }
      ]
    },
    {
      "cell_type": "code",
      "source": [
        "ar1 = np.array([\n",
        "    [1,2],\n",
        "    [3,4]\n",
        "])\n",
        "\n",
        "ar2 = np.array([\n",
        "    [5, 6],\n",
        "    [7,8]\n",
        "])\n",
        "print(np.vstack((ar1, ar2)))\n",
        "print(np.hstack((ar1, ar2)))\n",
        "print(np.stack((ar1, ar2), axis = 0))\n",
        "print(np.stack((ar1, ar2), axis = 1))"
      ],
      "metadata": {
        "colab": {
          "base_uri": "https://localhost:8080/"
        },
        "id": "BnDa6j7dXm9L",
        "outputId": "0892a2e4-ea13-43f5-aafa-1016fb70d308"
      },
      "execution_count": 10,
      "outputs": [
        {
          "output_type": "stream",
          "name": "stdout",
          "text": [
            "[[1 2]\n",
            " [3 4]\n",
            " [5 6]\n",
            " [7 8]]\n",
            "[[1 2 5 6]\n",
            " [3 4 7 8]]\n",
            "[[[1 2]\n",
            "  [3 4]]\n",
            "\n",
            " [[5 6]\n",
            "  [7 8]]]\n",
            "[[[1 2]\n",
            "  [5 6]]\n",
            "\n",
            " [[3 4]\n",
            "  [7 8]]]\n"
          ]
        }
      ]
    },
    {
      "cell_type": "code",
      "source": [
        "ar = np.array([1,2,3,4,5,6])\n",
        "print(np.repeat(ar, 2), np.tile(ar, 2))"
      ],
      "metadata": {
        "colab": {
          "base_uri": "https://localhost:8080/"
        },
        "id": "8fAthAOTZDj0",
        "outputId": "eec4d2ae-e087-463c-e382-8c154a785931"
      },
      "execution_count": 16,
      "outputs": [
        {
          "output_type": "stream",
          "name": "stdout",
          "text": [
            "[1 1 2 2 3 3 4 4 5 5 6 6] [1 2 3 4 5 6 1 2 3 4 5 6]\n"
          ]
        }
      ]
    },
    {
      "cell_type": "code",
      "source": [
        "print('sum: ', np.sum(ar))\n",
        "print('min: ', np.min(ar))\n",
        "print('max: ', np.max(ar))\n",
        "print('mean: ', np.mean(ar))\n",
        "print('median: ', np.median(ar))\n",
        "print('std: ', np.std(ar))\n",
        "print('variance: ', np.var(ar))"
      ],
      "metadata": {
        "colab": {
          "base_uri": "https://localhost:8080/"
        },
        "id": "GBSohMUsZQ-s",
        "outputId": "4a9d39b6-1d05-42e5-c232-848099079936"
      },
      "execution_count": 18,
      "outputs": [
        {
          "output_type": "stream",
          "name": "stdout",
          "text": [
            "sum:  21\n",
            "min:  1\n",
            "max:  6\n",
            "mean:  3.5\n",
            "median:  3.5\n",
            "std:  1.707825127659933\n",
            "variance:  2.9166666666666665\n"
          ]
        }
      ]
    },
    {
      "cell_type": "code",
      "source": [
        "matrix = np.array([\n",
        "    [1,2,3],\n",
        "    [4,5,6],\n",
        "    [7,8,9]\n",
        "])\n",
        "\n",
        "print(np.sum(matrix, axis = 0))"
      ],
      "metadata": {
        "colab": {
          "base_uri": "https://localhost:8080/"
        },
        "id": "CACuUW2naGZb",
        "outputId": "9aaadae0-805c-4252-f4f4-68cf8c6b618a"
      },
      "execution_count": 21,
      "outputs": [
        {
          "output_type": "stream",
          "name": "stdout",
          "text": [
            "[12 15 18]\n"
          ]
        }
      ]
    },
    {
      "cell_type": "code",
      "source": [
        "ar = np.array([10,20,30,40])\n",
        "\n",
        "print(np.cumsum(ar))\n",
        "print(np.cumprod(ar))"
      ],
      "metadata": {
        "colab": {
          "base_uri": "https://localhost:8080/"
        },
        "id": "iVikM-YeacXT",
        "outputId": "ececbced-b39f-46cc-d849-5f3f13bb7a45"
      },
      "execution_count": 42,
      "outputs": [
        {
          "output_type": "stream",
          "name": "stdout",
          "text": [
            "[ 10  30  60 100]\n",
            "[    10    200   6000 240000]\n"
          ]
        }
      ]
    },
    {
      "cell_type": "code",
      "source": [
        "ar"
      ],
      "metadata": {
        "colab": {
          "base_uri": "https://localhost:8080/"
        },
        "id": "kZRYKauDa96k",
        "outputId": "37e19719-aaab-436a-f68f-2bb99c1b2431"
      },
      "execution_count": 30,
      "outputs": [
        {
          "output_type": "execute_result",
          "data": {
            "text/plain": [
              "array([1, 2, 3, 4])"
            ]
          },
          "metadata": {},
          "execution_count": 30
        }
      ]
    },
    {
      "cell_type": "code",
      "source": [
        "res = np.where(ar <= 3)\n",
        "print(res)"
      ],
      "metadata": {
        "colab": {
          "base_uri": "https://localhost:8080/"
        },
        "id": "BVygNIqBavcL",
        "outputId": "3b1cd029-df50-45bc-af7e-91b5301cf61c"
      },
      "execution_count": 37,
      "outputs": [
        {
          "output_type": "stream",
          "name": "stdout",
          "text": [
            "(array([0, 1, 2]),)\n"
          ]
        }
      ]
    },
    {
      "cell_type": "code",
      "source": [
        "res = (np.argwhere(ar > 0)) # returns the indices\n",
        "print(res)"
      ],
      "metadata": {
        "colab": {
          "base_uri": "https://localhost:8080/"
        },
        "id": "bt_qjVQ2bLtF",
        "outputId": "c0f76fe8-6685-42cb-87bd-5aa4936dd083"
      },
      "execution_count": 39,
      "outputs": [
        {
          "output_type": "stream",
          "name": "stdout",
          "text": [
            "[[0]\n",
            " [1]\n",
            " [2]\n",
            " [3]]\n"
          ]
        }
      ]
    },
    {
      "cell_type": "code",
      "source": [
        "mask = np.logical_and(ar > 15, ar < 35)\n",
        "mask"
      ],
      "metadata": {
        "colab": {
          "base_uri": "https://localhost:8080/"
        },
        "id": "HUn854y4b70k",
        "outputId": "cbdfdbc9-e5cc-4993-a429-090b834b1d1a"
      },
      "execution_count": 43,
      "outputs": [
        {
          "output_type": "execute_result",
          "data": {
            "text/plain": [
              "array([False,  True,  True, False])"
            ]
          },
          "metadata": {},
          "execution_count": 43
        }
      ]
    },
    {
      "cell_type": "code",
      "source": [
        "mask = np.logical_and(matrix > 3, matrix < 9)\n",
        "mask_or = np.logical_or(matrix > 3, matrix < 9)\n",
        "print(mask, '\\n' , mask_or)"
      ],
      "metadata": {
        "colab": {
          "base_uri": "https://localhost:8080/"
        },
        "id": "Gify0kzxcOx5",
        "outputId": "e37907cb-dd8f-40e3-a13a-c1717c048a09"
      },
      "execution_count": 50,
      "outputs": [
        {
          "output_type": "stream",
          "name": "stdout",
          "text": [
            "[[False False False]\n",
            " [ True  True  True]\n",
            " [ True  True False]] \n",
            " [[ True  True  True]\n",
            " [ True  True  True]\n",
            " [ True  True  True]]\n"
          ]
        }
      ]
    },
    {
      "cell_type": "code",
      "source": [
        "res = np.argwhere(matrix > 4) # returns the indices\n",
        "print(res)"
      ],
      "metadata": {
        "colab": {
          "base_uri": "https://localhost:8080/"
        },
        "id": "kBjY-Ub6cZ4y",
        "outputId": "58d11e53-f880-4b9f-b154-d8bcf83aa820"
      },
      "execution_count": 48,
      "outputs": [
        {
          "output_type": "stream",
          "name": "stdout",
          "text": [
            "[[1 1]\n",
            " [1 2]\n",
            " [2 0]\n",
            " [2 1]\n",
            " [2 2]]\n"
          ]
        }
      ]
    },
    {
      "cell_type": "code",
      "source": [
        "res = np.nonzero(ar)\n",
        "resmat = np.nonzero(matrix)\n",
        "print(res, '\\n', resmat)"
      ],
      "metadata": {
        "colab": {
          "base_uri": "https://localhost:8080/"
        },
        "id": "7pUZCscFcnVz",
        "outputId": "6da57340-a2c4-4898-d677-6b7c66fa0809"
      },
      "execution_count": 53,
      "outputs": [
        {
          "output_type": "stream",
          "name": "stdout",
          "text": [
            "(array([0, 1, 2, 3]),) \n",
            " (array([0, 0, 0, 1, 1, 1, 2, 2, 2]), array([0, 1, 2, 0, 1, 2, 0, 1, 2]))\n"
          ]
        }
      ]
    },
    {
      "cell_type": "markdown",
      "source": [
        "**Broadcasting in Numpy (IMP)**\n",
        "\n",
        "* If shapes are equal, they're compatible.\n",
        "* If one is 1 (shape), it can be stretched to match the other\n",
        "* If shapes are different and not 1 or equal -> x error"
      ],
      "metadata": {
        "id": "IrBrbQ-xde0w"
      }
    },
    {
      "cell_type": "code",
      "source": [
        "image = np.array([\n",
        "    [100, 150],\n",
        "    [200, 250]\n",
        "])\n",
        "\n",
        "brightness = image + 50\n",
        "\n",
        "print(brightness) # This will broadcast the scalar 50 to the shape of image(Rule 1)"
      ],
      "metadata": {
        "colab": {
          "base_uri": "https://localhost:8080/"
        },
        "id": "E391Od0fdk1u",
        "outputId": "0786263a-7456-40ab-cc0e-f9e746fed99c"
      },
      "execution_count": 54,
      "outputs": [
        {
          "output_type": "stream",
          "name": "stdout",
          "text": [
            "[[150 200]\n",
            " [250 300]]\n"
          ]
        }
      ]
    },
    {
      "cell_type": "markdown",
      "source": [
        "**Vectorization**\n",
        "* To implement a custom function in numpy"
      ],
      "metadata": {
        "id": "jQG3nzvofFPW"
      }
    },
    {
      "cell_type": "code",
      "source": [
        "def square(x):\n",
        "    return x*x\n",
        "\n",
        "vfunc = np.vectorize(square)"
      ],
      "metadata": {
        "id": "FiS022-gfZgw"
      },
      "execution_count": 55,
      "outputs": []
    },
    {
      "cell_type": "code",
      "source": [
        "ar = [1,2,3,4,5,6,7]\n",
        "print(vfunc(ar))"
      ],
      "metadata": {
        "colab": {
          "base_uri": "https://localhost:8080/"
        },
        "id": "Kd0J8EmlfiXO",
        "outputId": "616a886e-823a-47a9-b250-38a5f3d9d676"
      },
      "execution_count": 56,
      "outputs": [
        {
          "output_type": "stream",
          "name": "stdout",
          "text": [
            "[ 1  4  9 16 25 36 49]\n"
          ]
        }
      ]
    },
    {
      "cell_type": "markdown",
      "source": [
        "**Dealing with Missing Values**"
      ],
      "metadata": {
        "id": "fKCgJrYjf5R6"
      }
    },
    {
      "cell_type": "code",
      "source": [
        "a = np.array([1, 2, np.inf, 4])\n",
        "a\n",
        "\n",
        "# np.inf and -np.inf -> positive and negative infinites"
      ],
      "metadata": {
        "colab": {
          "base_uri": "https://localhost:8080/"
        },
        "id": "Kf7LLO0Hf8GX",
        "outputId": "7b9e0f6b-0566-46da-f04b-e07824be77b3"
      },
      "execution_count": 58,
      "outputs": [
        {
          "output_type": "execute_result",
          "data": {
            "text/plain": [
              "array([ 1.,  2., inf,  4.])"
            ]
          },
          "metadata": {},
          "execution_count": 58
        }
      ]
    },
    {
      "cell_type": "code",
      "source": [
        "ar = np.array([1, 2, 3, np.nan, np.inf, -np.inf])\n",
        "print(np.isnan(ar)) # checks for nan values\n",
        "print(np.isinf(ar)) # checks for infinite values\n",
        "print(np.isfinite(ar)) # checks for finite values"
      ],
      "metadata": {
        "colab": {
          "base_uri": "https://localhost:8080/"
        },
        "id": "dymLs1tLgWPr",
        "outputId": "ead9caad-527d-4764-a010-bb36f0e86854"
      },
      "execution_count": 64,
      "outputs": [
        {
          "output_type": "stream",
          "name": "stdout",
          "text": [
            "[False False False  True False False]\n",
            "[False False False False  True  True]\n",
            "[ True  True  True False False False]\n"
          ]
        }
      ]
    },
    {
      "cell_type": "markdown",
      "source": [
        "* To replace the non values we use the following functions"
      ],
      "metadata": {
        "id": "RJOTsf92hr_H"
      }
    },
    {
      "cell_type": "code",
      "source": [
        "new_ar = np.nan_to_num(ar, nan = 0, posinf = 1, neginf = -1)\n",
        "new_ar"
      ],
      "metadata": {
        "colab": {
          "base_uri": "https://localhost:8080/"
        },
        "id": "m2B_fREQhxbb",
        "outputId": "6d725139-e372-40a6-ec71-9a66d41bc806"
      },
      "execution_count": 65,
      "outputs": [
        {
          "output_type": "execute_result",
          "data": {
            "text/plain": [
              "array([ 1.,  2.,  3.,  0.,  1., -1.])"
            ]
          },
          "metadata": {},
          "execution_count": 65
        }
      ]
    }
  ]
}